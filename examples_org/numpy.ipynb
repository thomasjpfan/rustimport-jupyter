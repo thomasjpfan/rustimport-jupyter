{
 "cells": [
  {
   "cell_type": "markdown",
   "metadata": {},
   "source": [
    "# NumPy with `rustimport`"
   ]
  },
  {
   "cell_type": "markdown",
   "metadata": {},
   "source": [
    "For Google colab, we install [rustimport](https://github.com/thomasjpfan/rustimport) and the rust toolchain:"
   ]
  },
  {
   "cell_type": "code",
   "execution_count": null,
   "metadata": {},
   "outputs": [],
   "source": [
    "import os\n",
    "import sys\n",
    "\n",
    "IN_COLAB = \"google.colab\" in sys.modules\n",
    "if IN_COLAB:\n",
    "    %pip install rustimport\n",
    "    !curl --proto '=https' --tlsv1.2 -sSf https://sh.rustup.rs | sh -s -- -y\n",
    "    os.environ[\"PATH\"] += \":/root/.cargo/bin\""
   ]
  },
  {
   "cell_type": "code",
   "execution_count": null,
   "metadata": {},
   "outputs": [],
   "source": [
    "%load_ext rustimport"
   ]
  },
  {
   "cell_type": "markdown",
   "metadata": {},
   "source": [
    "## Simple NumPy Function Written in Rust"
   ]
  },
  {
   "cell_type": "markdown",
   "metadata": {},
   "source": [
    "Based on the example from [PyO3/rust-numpy](https://github.com/PyO3/rust-numpy#example), we define a NumPy function that computes `a*x+y`:"
   ]
  },
  {
   "cell_type": "code",
   "execution_count": null,
   "metadata": {},
   "outputs": [],
   "source": [
    "%%rustimport\n",
    "//: [dependencies]\n",
    "//: pyo3 = { version = \"0.20\", features = [\"extension-module\"] }\n",
    "//: numpy = \"0.20\"\n",
    "\n",
    "use pyo3::prelude::*;\n",
    "use numpy::ndarray::{ArrayD, ArrayViewD};\n",
    "use numpy::{IntoPyArray, PyArrayDyn, PyReadonlyArrayDyn};\n",
    "\n",
    "fn axpy(a: f64, x: ArrayViewD<'_, f64>, y: ArrayViewD<'_, f64>) -> ArrayD<f64> {\n",
    "    a * &x + &y\n",
    "}\n",
    "\n",
    "#[pyfunction]\n",
    "#[pyo3(name = \"axpy\")]\n",
    "fn axpy_py<'py>(\n",
    "    py: Python<'py>,\n",
    "    a: f64,\n",
    "    x: PyReadonlyArrayDyn<'py, f64>,\n",
    "    y: PyReadonlyArrayDyn<'py, f64>,\n",
    ") -> &'py PyArrayDyn<f64> {\n",
    "    let x = x.as_array();\n",
    "    let y = y.as_array();\n",
    "    let z = axpy(a, x, y);\n",
    "    z.into_pyarray(py)\n",
    "}"
   ]
  },
  {
   "cell_type": "markdown",
   "metadata": {},
   "source": [
    "Using `pyo3(name=axpy)`, the public python function is named `axpy`, which is available in the notebook environment:"
   ]
  },
  {
   "cell_type": "code",
   "execution_count": null,
   "metadata": {},
   "outputs": [],
   "source": [
    "import numpy as np\n",
    "\n",
    "a = 4.4\n",
    "x = np.array([1.0, 3.0, 4.0], dtype=np.float64)\n",
    "y = np.array([2.1, -1.0, -4.0], dtype=np.float64)\n",
    "\n",
    "axpy(a, x, y)"
   ]
  }
 ],
 "metadata": {
  "kernelspec": {
   "display_name": "rustimport (python3)",
   "language": "python",
   "name": "conda-env-rustimport-py"
  },
  "language_info": {
   "codemirror_mode": {
    "name": "ipython",
    "version": 3
   },
   "file_extension": ".py",
   "mimetype": "text/x-python",
   "name": "python",
   "nbconvert_exporter": "python",
   "pygments_lexer": "ipython3",
   "version": "3.12.2"
  }
 },
 "nbformat": 4,
 "nbformat_minor": 4
}
