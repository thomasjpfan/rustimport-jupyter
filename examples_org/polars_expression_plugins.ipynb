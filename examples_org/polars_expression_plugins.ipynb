{
 "cells": [
  {
   "cell_type": "markdown",
   "metadata": {},
   "source": [
    "# Polar Expression Plugins with `rustimport`"
   ]
  },
  {
   "cell_type": "markdown",
   "metadata": {},
   "source": [
    "For Google colab, we install [rustimport](https://github.com/mityax/rustimport) and the rust toolchain:"
   ]
  },
  {
   "cell_type": "code",
   "execution_count": null,
   "metadata": {},
   "outputs": [],
   "source": [
    "import os\n",
    "import sys\n",
    "\n",
    "IN_COLAB = \"google.colab\" in sys.modules\n",
    "if IN_COLAB:\n",
    "    %pip install rustimport polars==0.20.2\n",
    "    !curl --proto '=https' --tlsv1.2 -sSf https://sh.rustup.rs | sh -s -- -y\n",
    "    os.environ[\"PATH\"] += \":/root/.cargo/bin\""
   ]
  },
  {
   "cell_type": "code",
   "execution_count": null,
   "metadata": {},
   "outputs": [],
   "source": [
    "%load_ext rustimport"
   ]
  },
  {
   "cell_type": "markdown",
   "metadata": {},
   "source": [
    "## Define the polars expression"
   ]
  },
  {
   "cell_type": "markdown",
   "metadata": {},
   "source": [
    "As show in [Polar's documentation](https://pola-rs.github.io/polars/user-guide/expressions/plugins/), we can define a pig-latin expression in rust. We'll need the compiled module later, so we set `--module-path-variable=polars_pig_latin_module`:"
   ]
  },
  {
   "cell_type": "code",
   "execution_count": null,
   "metadata": {},
   "outputs": [],
   "source": [
    "%%rustimport --module-path-variable=polars_pig_latin_module\n",
    "//: [dependencies]\n",
    "//: pyo3 = { version = \"0.20.0\", features = [\"extension-module\"] }\n",
    "//: pyo3-polars = { version = \"0.11.1\", features = [\"derive\"] }\n",
    "//: serde = { version = \"1\", features = [\"derive\"] }\n",
    "//: polars = { version = \"0.37.0\", features = [\"dtype-struct\"], default-features = false }\n",
    "\n",
    "use polars::prelude::*;\n",
    "use pyo3::prelude::*;\n",
    "use pyo3_polars::derive::polars_expr;\n",
    "use std::fmt::Write;\n",
    "\n",
    "#[polars_expr(output_type=String)]\n",
    "fn pig_latinnify(inputs: &[Series]) -> PolarsResult<Series> {\n",
    "    let ca: &StringChunked = inputs[0].str()?;\n",
    "    let out: StringChunked = ca.apply_to_buffer(|value: &str, output: &mut String| {\n",
    "        if let Some(first_char) = value.chars().next() {\n",
    "            write!(output, \"{}{}ay\", &value[1..], first_char).unwrap()\n",
    "        }\n",
    "    });\n",
    "    Ok(out.into_series())\n",
    "}"
   ]
  },
  {
   "cell_type": "markdown",
   "metadata": {},
   "source": [
    "We install dependencies required by Polars using with a `//:` comment syntax, which will be injected into a `Cargo.toml` file.\n",
    "\n",
    "With `polars_pig_latin_module` defined, we configure a `language` namespace for the Polars dataframe:"
   ]
  },
  {
   "cell_type": "code",
   "execution_count": null,
   "metadata": {},
   "outputs": [],
   "source": [
    "import polars as pl\n",
    "\n",
    "def pig_latinnify(expr) -> pl.Expr:\n",
    "    if isinstance(expr, str):\n",
    "        expr = pl.col(expr)\n",
    "    return expr.register_plugin(\n",
    "        lib=polars_pig_latin_module,\n",
    "        symbol=\"pig_latinnify\",\n",
    "        is_elementwise=True,\n",
    "    )"
   ]
  },
  {
   "cell_type": "markdown",
   "metadata": {},
   "source": [
    "With the `language` namespace defined, we can now use it with Polars:"
   ]
  },
  {
   "cell_type": "code",
   "execution_count": null,
   "metadata": {},
   "outputs": [],
   "source": [
    "df = pl.DataFrame(\n",
    "    {\n",
    "        \"convert\": [\"pig\", \"latin\", \"is\", \"silly\"],\n",
    "    }\n",
    ")\n",
    "\n",
    "out = df.with_columns(\n",
    "    pig_latin=pig_latinnify(\"convert\"),\n",
    ")\n",
    "print(out)"
   ]
  }
 ],
 "metadata": {
  "kernelspec": {
   "display_name": "rustimport (python3)",
   "language": "python",
   "name": "conda-env-rustimport-py"
  },
  "language_info": {
   "codemirror_mode": {
    "name": "ipython",
    "version": 3
   },
   "file_extension": ".py",
   "mimetype": "text/x-python",
   "name": "python",
   "nbconvert_exporter": "python",
   "pygments_lexer": "ipython3",
   "version": "3.12.2"
  }
 },
 "nbformat": 4,
 "nbformat_minor": 4
}
