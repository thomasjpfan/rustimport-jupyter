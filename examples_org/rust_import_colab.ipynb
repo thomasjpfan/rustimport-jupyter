{
 "cells": [
  {
   "cell_type": "markdown",
   "metadata": {},
   "source": [
    "# Introduction to `rustimport`"
   ]
  },
  {
   "cell_type": "markdown",
   "metadata": {},
   "source": [
    "## Using `rustimport`"
   ]
  },
  {
   "cell_type": "markdown",
   "metadata": {},
   "source": [
    "First, we load the `rustimport` magic:"
   ]
  },
  {
   "cell_type": "code",
   "execution_count": null,
   "metadata": {},
   "outputs": [],
   "source": [
    "%load_ext rustimport"
   ]
  },
  {
   "cell_type": "markdown",
   "metadata": {},
   "source": [
    "Next, prefix a cell with the `%%rustimport` marker to compile it:"
   ]
  },
  {
   "cell_type": "code",
   "execution_count": null,
   "metadata": {},
   "outputs": [],
   "source": [
    "%%rustimport\n",
    "use pyo3::prelude::*;\n",
    "\n",
    "#[pyfunction]\n",
    "fn square(x: i32) -> i32 {\n",
    "    x * x\n",
    "}"
   ]
  },
  {
   "cell_type": "markdown",
   "metadata": {},
   "source": [
    "The `square` function is now avaliable in your jupyter environment!"
   ]
  },
  {
   "cell_type": "code",
   "execution_count": null,
   "metadata": {},
   "outputs": [],
   "source": [
    "square(14)"
   ]
  },
  {
   "cell_type": "markdown",
   "metadata": {},
   "source": [
    "By default, `rustimport` compiles rust code in \"dev\" mode. To enable release-optimized binaries pass in the --release flag:"
   ]
  },
  {
   "cell_type": "code",
   "execution_count": null,
   "metadata": {},
   "outputs": [],
   "source": [
    "%%rustimport --release\n",
    "use pyo3::prelude::*;\n",
    "\n",
    "#[pyfunction]\n",
    "fn cubed(x: i32) -> i32 {\n",
    "    x * x * x\n",
    "}"
   ]
  },
  {
   "cell_type": "code",
   "execution_count": null,
   "metadata": {},
   "outputs": [],
   "source": [
    "cubed(8)"
   ]
  }
 ],
 "metadata": {
  "kernelspec": {
   "display_name": "rustimport (python3)",
   "language": "python",
   "name": "conda-env-rustimport-py"
  },
  "language_info": {
   "codemirror_mode": {
    "name": "ipython",
    "version": 3
   },
   "file_extension": ".py",
   "mimetype": "text/x-python",
   "name": "python",
   "nbconvert_exporter": "python",
   "pygments_lexer": "ipython3",
   "version": "3.12.2"
  }
 },
 "nbformat": 4,
 "nbformat_minor": 4
}
